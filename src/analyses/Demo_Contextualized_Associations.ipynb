{
 "cells": [
  {
   "cell_type": "code",
   "execution_count": 1,
   "metadata": {},
   "outputs": [],
   "source": [
    "from response_sequencer.segmenting import SentenceSegmenter\n",
    "from response_sequencer.scoring import ContextualizedEmbeddingScorer\n",
    "\n",
    "layer_depth = 2\n",
    "\n",
    "segmenter = SentenceSegmenter()\n",
    "scorer = ContextualizedEmbeddingScorer(model_name='intfloat/e5-large', layer_depth=layer_depth)\n",
    "\n",
    "response_transcript_1 = \"Apples are a type of fruit. I really like them. They are red in color.\"\n",
    "response_transcript_2 = \"Roses are a type of flower. I really like them. They are red in color.\"\n",
    "response_transcript_3 = \"Apples are a type of fruit. I really like them.\"\n",
    "response_transcript_4 = \"Roses are a type of flower. I really like them.\"\n",
    "target_items = [\"Roses are red\"]"
   ]
  },
  {
   "cell_type": "code",
   "execution_count": 2,
   "metadata": {},
   "outputs": [
    {
     "data": {
      "text/plain": [
       "[{'text': 'Apples are a type of fruit.', 'spans': [(0, 27)]},\n",
       " {'text': 'I really like them.', 'spans': [(28, 47)]},\n",
       " {'text': 'They are red in color.', 'spans': [(48, 70)]}]"
      ]
     },
     "execution_count": 2,
     "metadata": {},
     "output_type": "execute_result"
    }
   ],
   "source": [
    "segmenter(response_transcript_1)"
   ]
  }
 ],
 "metadata": {
  "kernelspec": {
   "display_name": "Python 3",
   "language": "python",
   "name": "python3"
  },
  "language_info": {
   "codemirror_mode": {
    "name": "ipython",
    "version": 3
   },
   "file_extension": ".py",
   "mimetype": "text/x-python",
   "name": "python",
   "nbconvert_exporter": "python",
   "pygments_lexer": "ipython3",
   "version": "3.10.9"
  },
  "orig_nbformat": 4
 },
 "nbformat": 4,
 "nbformat_minor": 2
}
