{
 "cells": [
  {
   "cell_type": "code",
   "execution_count": 1,
   "metadata": {},
   "outputs": [],
   "source": [
    "#| default_exp evaluating"
   ]
  },
  {
   "attachments": {},
   "cell_type": "markdown",
   "metadata": {},
   "source": [
    "# Evaluation\n",
    "For each task of segmenting, matching, and sequencing, we specify an abstract class that defines the interface for implementations that compare the results of the algorithm to the ground truth. "
   ]
  },
  {
   "attachments": {},
   "cell_type": "markdown",
   "metadata": {},
   "source": [
    "## Segmenter Evaluator"
   ]
  },
  {
   "cell_type": "code",
   "execution_count": 2,
   "metadata": {},
   "outputs": [],
   "source": [
    "#| code-summary: specify an abstract base class for implementing an evaluator of Segmenter concrete classes.\n",
    "\n",
    "#| export\n",
    "from abc import ABC, abstractmethod\n",
    "from typing import List, Dict\n",
    "\n",
    "class SegmenterEvaluator(ABC):\n",
    "\n",
    "    \"\"\"\n",
    "    Abstract base class for implementing an evaluator of Segmenter concrete classes. To create a custom SegmenterEvaluator, inherit from this class and override the compare method.\n",
    "    \"\"\"\n",
    "\n",
    "    @abstractmethod\n",
    "    def __call__(self, response_text: str, generated_units: List[Dict[str, object]], reference_units: List[Dict[str, object]]) -> float:\n",
    "        \"\"\"\n",
    "        Identifies the sequence of target items generated in the input text.\n",
    "\n",
    "        Parameters:\n",
    "            response_text (str): The response text.\n",
    "            generated_units List[Dict[str, object]]: The sequence of generated units.\n",
    "            reference_units List[Dict[str, object]]: The sequence of reference units.\n",
    "\n",
    "            Each unit is a dictionary with keys \"text\" and \"spans\":\n",
    "            The \"text\" key corresponds to the text representation, \n",
    "            The \"spans\" key corresponds to a list of character-level start and end indices (tuples) in the reference text.\n",
    "\n",
    "        Returns:\n",
    "            float: The evaluation score.\n",
    "        \"\"\"\n",
    "        pass"
   ]
  },
  {
   "attachments": {},
   "cell_type": "markdown",
   "metadata": {},
   "source": [
    "### Jaccard Score\n",
    "Defined as the size of the intersection divided by the size of the union of two label sets. A value of 1 when the two sets are identical, and 0 when they are disjoint."
   ]
  },
  {
   "cell_type": "code",
   "execution_count": 3,
   "metadata": {},
   "outputs": [],
   "source": [
    "#| code-summary: specify an evaluator of Segmenter concrete classes that computes the Jaccard score across spans\n",
    "\n",
    "#| export\n",
    "from sklearn.metrics import jaccard_score\n",
    "import numpy as np\n",
    "\n",
    "class JaccardScoreSegmenterEvaluator(SegmenterEvaluator):\n",
    "\n",
    "    def __call__(self, response_text: str, \n",
    "                 generated_units: List[Dict[str, object]], \n",
    "                 comparison_units: List[Dict[str, object]]) -> float:\n",
    "        \n",
    "        gen_labels = self._assign_labels(response_text, generated_units)\n",
    "        comp_labels = self._assign_labels(response_text, comparison_units)\n",
    "        return float(jaccard_score(comp_labels, gen_labels, average='samples'))\n",
    "\n",
    "    def _assign_labels(self, response_text: str, units) -> List[List[int]]:\n",
    "\n",
    "        labels = np.zeros((len(units), len(response_text)), dtype=int)\n",
    "        for i, unit in enumerate(units):\n",
    "            for span in unit[\"spans\"]:\n",
    "                start, end = span\n",
    "                labels[i, start:end] = 1\n",
    "\n",
    "        return labels.tolist()"
   ]
  },
  {
   "cell_type": "code",
   "execution_count": 4,
   "metadata": {},
   "outputs": [
    {
     "data": {
      "text/plain": [
       "(0.8177843654941555, 1.0)"
      ]
     },
     "execution_count": 4,
     "metadata": {},
     "output_type": "execute_result"
    }
   ],
   "source": [
    "#| code-summary: demonstrate the use of the JaccardScoreSegmenterEvaluator class.\n",
    "\n",
    "from response_sequencer.datasets import SensesDataset\n",
    "from response_sequencer.sequencing import BaselineSequencer\n",
    "from response_sequencer.demo import flatten_matches\n",
    "import os\n",
    "\n",
    "section_tag = 'base' # unique identifier for this variation of notebook parameters\n",
    "output_dir = '../../data/'\n",
    "\n",
    "dataset = SensesDataset(\n",
    "    os.path.join(output_dir, f'{section_tag}_senses.h5'), \n",
    "    os.path.join(output_dir, f'{section_tag}_sense_pool.txt'))\n",
    "sequencer = BaselineSequencer()\n",
    "\n",
    "trial_index = 0\n",
    "trial = dataset.__getitem__(trial_index)\n",
    "\n",
    "response_text = trial[\"response_transcript\"]\n",
    "matched_target_items, reference_units = flatten_matches(\n",
    "        trial['target_items'], trial['response_units'], trial['matches'])\n",
    "result = sequencer(response_text, matched_target_items)\n",
    "\n",
    "matched_target_items, generated_units = flatten_matches(matched_target_items, result['response_units'], result['matches'])\n",
    "\n",
    "typical_result = JaccardScoreSegmenterEvaluator()(\n",
    "    response_text, generated_units, reference_units)\n",
    "\n",
    "perfect_result = JaccardScoreSegmenterEvaluator()(\n",
    "    response_text, reference_units, reference_units)\n",
    "\n",
    "typical_result, perfect_result"
   ]
  },
  {
   "attachments": {},
   "cell_type": "markdown",
   "metadata": {},
   "source": [
    "## Matcher Evaluator"
   ]
  },
  {
   "cell_type": "code",
   "execution_count": 5,
   "metadata": {},
   "outputs": [],
   "source": [
    "#| code-summary: specify an abstract base class for implementing an evaluator of Matcher concrete classes.\n",
    "\n",
    "#| export\n",
    "\n",
    "class MatcherEvaluator(ABC):\n",
    "\n",
    "    \"\"\"\n",
    "    Abstract base class for implementing an evaluator of Matcher concrete classes. To create a custom MatcherEvaluator, inherit from this class and override the compare method.\n",
    "    \"\"\"\n",
    "\n",
    "    @abstractmethod\n",
    "    def __call__(\n",
    "        self, response_text: str, reference_units: List[Dict[str, object]], generated_units: List[Dict[str, object]], \n",
    "        reference_matching: List[List[bool]], generated_matching: List[List[bool]]) -> float:\n",
    "        \"\"\"\n",
    "        Identifies the sequence of target items generated in the input text.\n",
    "\n",
    "        Parameters:\n",
    "            response_text (str): The response text.\n",
    "            reference_units (List[Dict[str, object]]): List of reference response units\n",
    "            generated_units (List[Dict[str, object]]): List of generated response_units\n",
    "\n",
    "                Each reference and generated unit is a dictionary with keys \"text\" and \"spans\":\n",
    "                The \"text\" key corresponds to the text representation, \n",
    "                The \"spans\" key corresponds to a list of character-level start and end indices (tuples) \n",
    "                in the input text.\n",
    "\n",
    "            reference_matching (List[List[bool]]): matchings between target items and reference units\n",
    "            generated_matching (List[List[bool]]): matchings between target items and generated units\n",
    "\n",
    "            matchings are 2-D boolean numpy arrays of shape (len(target_items), len(units)) containing True \n",
    "            if the target item matches the reference or generated unit at the corresponding index.\n",
    "\n",
    "        Returns:\n",
    "            float: The evaluation score.\n",
    "        \"\"\"\n",
    "        pass"
   ]
  },
  {
   "attachments": {},
   "cell_type": "markdown",
   "metadata": {},
   "source": [
    "### SegmentMatcherEvaluator"
   ]
  },
  {
   "cell_type": "code",
   "execution_count": 6,
   "metadata": {},
   "outputs": [],
   "source": [
    "#| code-summary: specify an evaluator of Matcher concrete classes that compares matched segments using a SegmenterEvaluator\n",
    "\n",
    "#|export\n",
    "import numpy as np\n",
    "\n",
    "class SegmentMatcherEvaluator(MatcherEvaluator):\n",
    "    \"\"\"\n",
    "    Evaluates matchings by comparing for each target item the matched reference unit with the matched generated unit using a SegmenterEvaluator\n",
    "    \n",
    "    \"\"\"\n",
    "\n",
    "    def __init__(self, segmenter_evaluator: SegmenterEvaluator, only_matched: bool = False):\n",
    "        \"\"\"\n",
    "        Parameters:\n",
    "            segmenter_evaluator (SegmenterEvaluator): The SegmenterEvaluator to use for comparing the matched units\n",
    "            only_matched (bool): If True, only target items with a matched reference unit are considered\n",
    "\n",
    "            `segmenter_evaluator` should have a __call__ method with parameters (response_text, generated_units, reference_units) and return a float score\n",
    "        \"\"\"\n",
    "\n",
    "        self.segmenter_evaluator = segmenter_evaluator\n",
    "        self.only_matched = only_matched\n",
    "        \n",
    "    def __call__(\n",
    "        self, response_text: str, reference_units: List[Dict[str, object]], \n",
    "        generated_units: List[Dict[str, object]], \n",
    "        reference_matching: List[str], generated_matching: List[str]) -> float:\n",
    "        \"\"\"\n",
    "        Identifies the sequence of target items generated in the input text.\n",
    "\n",
    "        Parameters:\n",
    "            response_text (str): The response text.\n",
    "            reference_units (List[Dict[str, object]]): List of reference response units\n",
    "            generated_units (List[Dict[str, object]]): List of generated response_units\n",
    "\n",
    "                Each reference and generated unit is a dictionary with keys \"text\" and \"spans\":\n",
    "                The \"text\" key corresponds to the text representation, \n",
    "                The \"spans\" key corresponds to a list of character-level start and end indices (tuples) \n",
    "                in the input text.\n",
    "\n",
    "            reference_matching (np.ndarray): matchings between target items and reference units\n",
    "            generated_matching (np.ndarray): matchings between target items and generated units\n",
    "\n",
    "            matchings are 2-D boolean numpy arrays of shape (len(target_items), len(units)) containing True \n",
    "            if the target item matches the reference or generated unit at the corresponding index.\n",
    "\n",
    "        Returns:\n",
    "            float: The evaluation score.\n",
    "        \"\"\"\n",
    "\n",
    "        # represent matchings as arrays\n",
    "        reference_matching = np.array(reference_matching)\n",
    "        generated_matching = np.array(generated_matching)\n",
    "\n",
    "        if self.only_matched:\n",
    "            valid_targets = np.any(reference_matching, axis=1)\n",
    "            reference_matching = reference_matching[valid_targets]\n",
    "            generated_matching = generated_matching[valid_targets]\n",
    "            \n",
    "        reference_units = [reference_units[i] for i in np.argmax(reference_matching, axis=1)]\n",
    "        generated_units = [generated_units[i] for i in np.argmax(generated_matching, axis=1)]\n",
    "\n",
    "        return self.segmenter_evaluator(response_text, generated_units, reference_units)"
   ]
  },
  {
   "cell_type": "code",
   "execution_count": 7,
   "metadata": {},
   "outputs": [
    {
     "data": {
      "text/plain": [
       "(0.8177843654941555, 1.0)"
      ]
     },
     "execution_count": 7,
     "metadata": {},
     "output_type": "execute_result"
    }
   ],
   "source": [
    "#| code-summary: demonstrate the SegmentMatcherEvaluator with the JaccardScoreSegmenterEvaluator\n",
    "\n",
    "trial_index = 0\n",
    "trial = dataset.__getitem__(trial_index)\n",
    "result = sequencer(trial['response_transcript'], trial['target_items'])\n",
    "evaluator = SegmentMatcherEvaluator(JaccardScoreSegmenterEvaluator(), only_matched=True)\n",
    "\n",
    "typical_result = evaluator(\n",
    "    trial['response_transcript'], trial['response_units'], result['response_units'], \n",
    "    trial['matches'], result['matches'])\n",
    "\n",
    "perfect_result = evaluator(\n",
    "    trial['response_transcript'], trial['response_units'], trial['response_units'],\n",
    "    trial['matches'], trial['matches'])\n",
    "\n",
    "typical_result, perfect_result"
   ]
  },
  {
   "attachments": {},
   "cell_type": "markdown",
   "metadata": {},
   "source": [
    "### Levenshtein Distance"
   ]
  },
  {
   "cell_type": "code",
   "execution_count": 8,
   "metadata": {},
   "outputs": [],
   "source": [
    "#| code-summary: specify an evaluator of Matcher concrete classes that compares the edit distance of generated and reference target item sequences\n",
    "\n",
    "#|export\n",
    "from edist.sed import standard_sed\n",
    "\n",
    "class LevenshteinMatcherEvaluator(MatcherEvaluator):\n",
    "    \"\"\"\n",
    "    Uses Levenshtein distance between extracted target item sequences to measure performance\n",
    "    \"\"\"\n",
    "\n",
    "    def __init__(self,only_matched: bool = False):\n",
    "        \"\"\"\n",
    "        Parameters:\n",
    "            only_matched (bool): If True, only target items with a matched reference unit are considered\n",
    "        \"\"\"\n",
    "\n",
    "        self.only_matched = only_matched\n",
    "        \n",
    "    def __call__(\n",
    "        self, response_text: str, reference_units: List[Dict[str, object]], generated_units: List[Dict[str, object]], \n",
    "        reference_matching: List[List[bool]], generated_matching: List[List[bool]]) -> float:\n",
    "        \"\"\"\n",
    "        Identifies the sequence of target items generated in the input text.\n",
    "\n",
    "        Parameters:\n",
    "            response_text (str): The response text.\n",
    "            reference_units (List[Dict[str, object]]): List of reference response units\n",
    "            generated_units (List[Dict[str, object]]): List of generated response_units\n",
    "\n",
    "                Each reference and generated unit is a dictionary with keys \"text\" and \"spans\":\n",
    "                The \"text\" key corresponds to the text representation, \n",
    "                The \"spans\" key corresponds to a list of character-level start and end indices (tuples) \n",
    "                in the input text.\n",
    "\n",
    "            reference_matching (List[List[bool]]): matchings between target items and reference units\n",
    "            generated_matching (List[List[bool]]): matchings between target items and generated units\n",
    "\n",
    "            matchings are 2-D boolean numpy arrays of shape (len(target_items), len(units)) containing True \n",
    "            if the target item matches the reference or generated unit at the corresponding index.\n",
    "\n",
    "        Returns:\n",
    "            float: The evaluation score.\n",
    "        \"\"\"\n",
    "\n",
    "        # represent matchings as arrays\n",
    "        reference_matching = np.array(reference_matching)\n",
    "        generated_matching = np.array(generated_matching)\n",
    "\n",
    "        if self.only_matched:\n",
    "            valid_targets = np.any(reference_matching, axis=1)\n",
    "            reference_matching = reference_matching[valid_targets]\n",
    "            generated_matching = generated_matching[valid_targets]\n",
    "\n",
    "        reference_recalled_targets = np.any(reference_matching, axis=1)\n",
    "        generated_recalled_targets = np.any(generated_matching, axis=1)\n",
    "\n",
    "        reference_matching = reference_matching[reference_recalled_targets]\n",
    "        generated_matching = generated_matching[generated_recalled_targets]\n",
    "\n",
    "        reference_units = [reference_units[i] for i in np.argmax(reference_matching, axis=1)]\n",
    "        generated_units = [generated_units[i] for i in np.argmax(generated_matching, axis=1)]\n",
    "\n",
    "        reference_sequence = np.where(reference_recalled_targets)[0].tolist()\n",
    "        generated_sequence = np.where(generated_recalled_targets)[0].tolist()\n",
    "\n",
    "        paired_reference = list(zip(reference_sequence, reference_units))\n",
    "        paired_generated = list(zip(generated_sequence, generated_units))\n",
    "\n",
    "        sorted_reference = sorted(paired_reference, key=lambda x: self._span_based_ordering(x[1]))\n",
    "        sorted_generated = sorted(paired_generated, key=lambda x: self._span_based_ordering(x[1]))\n",
    "\n",
    "        sorted_reference = [x[0] for x in sorted_reference]\n",
    "        sorted_generated = [x[0] for x in sorted_generated]\n",
    "\n",
    "        # print(sorted_reference, sorted_generated, standard_sed(sorted_reference, sorted_generated))\n",
    "        return standard_sed(sorted_reference, sorted_generated)\n",
    "\n",
    "    \n",
    "    def _span_based_ordering(self, matched_response_unit):\n",
    "        return (matched_response_unit['spans'][0][0], matched_response_unit['spans'][-1][1])        "
   ]
  },
  {
   "cell_type": "code",
   "execution_count": 9,
   "metadata": {},
   "outputs": [
    {
     "data": {
      "text/plain": [
       "(6, 0)"
      ]
     },
     "execution_count": 9,
     "metadata": {},
     "output_type": "execute_result"
    }
   ],
   "source": [
    "#| code-summary: demonstrate how the LevenshteinMatcherEvaluator can be used to evaluate the performance of the Sequencer\n",
    "\n",
    "trial_index = 0\n",
    "trial = dataset.__getitem__(trial_index)\n",
    "result = sequencer(trial['response_transcript'], trial['target_items'])\n",
    "evaluator = LevenshteinMatcherEvaluator()\n",
    "\n",
    "typical_result = evaluator(\n",
    "    trial['response_transcript'], trial['response_units'], result['response_units'], \n",
    "    trial['matches'], result['matches'])\n",
    "\n",
    "perfect_result = evaluator(\n",
    "    trial['response_transcript'], trial['response_units'], trial['response_units'],\n",
    "    trial['matches'], trial['matches'])\n",
    "\n",
    "typical_result, perfect_result"
   ]
  },
  {
   "attachments": {},
   "cell_type": "markdown",
   "metadata": {},
   "source": [
    "## Dataset Generation"
   ]
  },
  {
   "cell_type": "code",
   "execution_count": 10,
   "metadata": {},
   "outputs": [],
   "source": [
    "#| code-summary: specify a dataset generator that applies a Sequencer to a source dataset to generate a dataset mapping target items to response text\n",
    "\n",
    "#| export\n",
    "from torch.utils.data import Dataset\n",
    "from response_sequencer.sequencing import Sequencer\n",
    "from tqdm import tqdm\n",
    "import json\n",
    "\n",
    "class DatasetGenerator:\n",
    "    \"\"\"\n",
    "    Generates a dataset of response text and target items by applying a Sequencer to a source dataset.\n",
    "    \"\"\"\n",
    "\n",
    "    def __call__(self, dataset: Dataset, sequencer: Sequencer, out_path: str = \"\", samples: int = 0, random: bool = False):\n",
    "\n",
    "        if samples == 0:\n",
    "            samples = len(dataset)\n",
    "\n",
    "        if random:\n",
    "            indices = np.random.choice(len(dataset), size=samples, replace=False)\n",
    "        else:\n",
    "            indices = np.arange(samples)\n",
    "        \n",
    "        generated_dataset = []\n",
    "        for i in tqdm(indices):\n",
    "            batch = dataset[i]\n",
    "            response_text = batch['response_transcript']\n",
    "            if not response_text:\n",
    "                continue\n",
    "\n",
    "            target_items = batch['target_items']\n",
    "            reference_units = batch['response_units']\n",
    "            if not reference_units:\n",
    "                continue\n",
    "    \n",
    "            reference_matching = batch['matches']\n",
    "            result = sequencer(response_text, target_items)\n",
    "            result['trial'] = int(i)\n",
    "\n",
    "            generated_dataset.append(result)\n",
    "\n",
    "        if out_path:\n",
    "            with open(out_path, 'w') as f:\n",
    "                json.dump(generated_dataset, f)\n",
    "        else:\n",
    "            return generated_dataset\n",
    "    "
   ]
  },
  {
   "cell_type": "code",
   "execution_count": 11,
   "metadata": {},
   "outputs": [
    {
     "name": "stderr",
     "output_type": "stream",
     "text": [
      "100%|██████████| 5/5 [00:00<00:00, 11.08it/s]\n"
     ]
    }
   ],
   "source": [
    "#| code-summary: demonstrate how the DatasetGenerator can be used to generate a dataset of response text and target items\n",
    "\n",
    "DatasetGenerator()(dataset, sequencer, out_path=\"../../data/generated_dataset.json\", samples=5, random=True)"
   ]
  },
  {
   "attachments": {},
   "cell_type": "markdown",
   "metadata": {},
   "source": [
    "## Dataset Evaluation"
   ]
  },
  {
   "cell_type": "code",
   "execution_count": 12,
   "metadata": {},
   "outputs": [],
   "source": [
    "#| code-summary: specify a dataset evaluator that compares the matched reference and generated units using a MatcherEvaluator\n",
    "\n",
    "#| export\n",
    "from torch.utils.data import Dataset\n",
    "from response_sequencer.sequencing import Sequencer\n",
    "from tqdm import tqdm\n",
    "\n",
    "class DatasetEvaluator:\n",
    "    \"\"\"\n",
    "    Evaluates matchings by comparing for each target item the matched reference unit with the matched generated unit using a SegmenterEvaluator\n",
    "    \n",
    "    \"\"\"\n",
    "\n",
    "    def __init__(self, reference_dataset: Dataset, comparison_dataset: Dataset):\n",
    "        \"\"\"\n",
    "        Parameters:\n",
    "            matcher_evaluator (MatcherEvaluator): The evaluator comparing the matched reference and generated units\n",
    "        \"\"\"\n",
    "\n",
    "        self.reference_dataset = reference_dataset\n",
    "        self.comparison_dataset = comparison_dataset\n",
    "\n",
    "    def __call__(self, evaluator: MatcherEvaluator) -> List[float]:\n",
    "        \"\"\"\n",
    "        Applies evaluation to a random sample of the dataset.\n",
    "\n",
    "        Parameters:\n",
    "            samples (int): The number of samples to evaluate. If 0, all samples are evaluated.\n",
    "\n",
    "        Returns:\n",
    "            List[float]: The evaluation scores.\n",
    "        \"\"\"\n",
    "\n",
    "        scores = []\n",
    "        for sample in self.comparison_dataset:\n",
    "\n",
    "            batch = self.reference_dataset[sample['trial']]\n",
    "            response_text = batch['response_transcript']\n",
    "            if not response_text:\n",
    "                continue\n",
    "\n",
    "            target_items = batch['target_items']\n",
    "            reference_units = batch['response_units']\n",
    "            if not reference_units:\n",
    "                continue\n",
    "            reference_matching = batch['matches']\n",
    "\n",
    "            generated_units = sample['response_units']\n",
    "            generated_matching = sample['matches']\n",
    "\n",
    "            scores.append(evaluator(\n",
    "                response_text, reference_units, generated_units, reference_matching, generated_matching))\n",
    "\n",
    "        return scores"
   ]
  },
  {
   "cell_type": "code",
   "execution_count": 13,
   "metadata": {},
   "outputs": [
    {
     "name": "stderr",
     "output_type": "stream",
     "text": [
      "100%|██████████| 5/5 [00:00<00:00, 10.23it/s]"
     ]
    },
    {
     "name": "stdout",
     "output_type": "stream",
     "text": [
      "0.8\n"
     ]
    },
    {
     "name": "stderr",
     "output_type": "stream",
     "text": [
      "\n"
     ]
    }
   ],
   "source": [
    "#| code-summary: demonstrate how the DatasetEvaluator can be used to evaluate the performance of the Sequencer\n",
    "\n",
    "generated_dataset = DatasetGenerator()(dataset, sequencer, samples=5, random=True)\n",
    "dataset_evaluator = DatasetEvaluator(dataset,  generated_dataset)\n",
    "scores = dataset_evaluator(LevenshteinMatcherEvaluator(only_matched=True))\n",
    "print(np.mean(scores))"
   ]
  },
  {
   "cell_type": "code",
   "execution_count": 14,
   "metadata": {},
   "outputs": [],
   "source": [
    "#| export\n",
    "\n",
    "import matplotlib.pyplot as plt\n",
    "import numpy as np\n",
    "import scipy.stats as stats\n",
    "\n",
    "def visualize_confidence_interval(samples, confidence_level=0.95):\n",
    "    # Calculate the sample mean and standard error of the mean\n",
    "    sample_mean = np.mean(samples)\n",
    "    sample_sem = stats.sem(samples)\n",
    "    \n",
    "    # Calculate the degrees of freedom\n",
    "    degrees_of_freedom = len(samples) - 1\n",
    "    \n",
    "    # Calculate the t-critical value for the specified confidence level\n",
    "    t_critical = stats.t.ppf((1 + confidence_level) / 2, degrees_of_freedom)\n",
    "    \n",
    "    # Calculate the margin of error\n",
    "    margin_of_error = t_critical * sample_sem\n",
    "    \n",
    "    # Calculate the lower and upper bounds of the confidence interval\n",
    "    lower_bound = sample_mean - margin_of_error\n",
    "    upper_bound = sample_mean + margin_of_error\n",
    "\n",
    "    print(f'Confidence Level: {confidence_level*100:.1f}%')\n",
    "    print(f'Sample Mean: {sample_mean:.3f}')\n",
    "    print(f'Lower Bound: {lower_bound:.3f}')\n",
    "    print(f'Upper Bound: {upper_bound:.3f}')\n",
    "    \n",
    "\n",
    "    # Plot the confidence interval\n",
    "    plt.figure(figsize=(8, 6))\n",
    "    plt.axhline(y=sample_mean, color='blue', linestyle='-', label='Sample Mean')\n",
    "    plt.axhline(y=lower_bound, color='red', linestyle='--', label='Lower Bound')\n",
    "    plt.axhline(y=upper_bound, color='green', linestyle='--', label='Upper Bound')\n",
    "    plt.fill_betweenx([lower_bound, upper_bound], 0, 1, color='gray', alpha=0.3, label='Confidence Interval')\n",
    "    plt.legend(loc='upper right')\n",
    "    plt.xlim(0, 1)\n",
    "    plt.xlabel('Samples')\n",
    "    plt.ylabel('Value')\n",
    "    plt.title(f'{confidence_level*100:.1f}% Confidence Interval')\n",
    "    plt.show()"
   ]
  },
  {
   "cell_type": "code",
   "execution_count": 15,
   "metadata": {},
   "outputs": [
    {
     "name": "stdout",
     "output_type": "stream",
     "text": [
      "Confidence Level: 95.0%\n",
      "Sample Mean: 0.800\n",
      "Lower Bound: -0.560\n",
      "Upper Bound: 2.160\n"
     ]
    },
    {
     "data": {
      "image/png": "[encoded data removed]",
      "text/plain": [
       "<Figure size 800x600 with 1 Axes>"
      ]
     },
     "metadata": {},
     "output_type": "display_data"
    }
   ],
   "source": [
    "visualize_confidence_interval(scores)"
   ]
  },
  {
   "cell_type": "code",
   "execution_count": 16,
   "metadata": {},
   "outputs": [],
   "source": [
    "#| hide\n",
    "import nbdev; nbdev.nbdev_export()"
   ]
  }
 ],
 "metadata": {
  "kernelspec": {
   "display_name": "python3",
   "language": "python",
   "name": "python3"
  },
  "language_info": {
   "codemirror_mode": {
    "name": "ipython",
    "version": 3
   },
   "file_extension": ".py",
   "mimetype": "text/x-python",
   "name": "python",
   "nbconvert_exporter": "python",
   "pygments_lexer": "ipython3",
   "version": "3.10.9"
  }
 },
 "nbformat": 4,
 "nbformat_minor": 2
}
