{
 "cells": [
  {
   "cell_type": "raw",
   "metadata": {},
   "source": [
    "---\n",
    "title: \"ResponseSequencer\"\n",
    "---"
   ]
  },
  {
   "attachments": {},
   "cell_type": "markdown",
   "metadata": {},
   "source": [
    "The ResponseSequencer library is a Python-based tool designed for researchers and developers working on automatic methods for preprocessing complex free response data. It focuses on the production of a sequence of target items from this data, offering a wide range of functionalities to streamline your research.\n",
    "\n",
    "At its core, this project aims to investigate and refine various approaches for breaking down the task of coding free response data into discrete preprocessing steps. By evaluating multiple automated techniques for each step, both independently and in the context of an overall preprocessing pipeline, we strive to uncover the most effective methods in handling this challenging data.\n",
    "\n",
    "Our research primarily revolves around three steps in the preprocessing pipeline: response text segmentation, matching response segments with target items, and finally identifying the sequence of target items generated in a response. We thoroughly compare and contrast human-driven methods with computational techniques, enabling us to concretely assess the strengths and weaknesses of each approach.\n",
    "\n",
    "Being a research library, ResponseSequencer is designed to be easily extensible and customizable, allowing you to quickly prototype and test new ideas or tailor our provided preprocessing pipeline to your specific needs. Our hope is that this library will help centralize and accelerate research in this area, enabling researchers to focus on the core of their work rather than the minutiae of data preprocessing."
   ]
  },
  {
   "attachments": {},
   "cell_type": "markdown",
   "metadata": {},
   "source": [
    "## Installation"
   ]
  },
  {
   "attachments": {},
   "cell_type": "markdown",
   "metadata": {},
   "source": [
    "For maximum flexibility while tailoring the library to your own needs, we recommend installing the library in editable mode using pip.\n",
    "\n",
    "Clone the repository locally. \n",
    "Navigate to its root directory in a terminal and run the following command:\n",
    "\n",
    "```sh\n",
    "pip install -e .\n",
    "```\n",
    "\n",
    "To install the library normally without need for local cloning or library tailoring, you can alternatively run the following command in your terminal, applying no other steps:\n",
    "\n",
    "```sh\n",
    "pip install git+https://github.com/githubpsyche/response_sequencer.git\n",
    "```"
   ]
  },
  {
   "attachments": {},
   "cell_type": "markdown",
   "metadata": {},
   "source": [
    "## Usage"
   ]
  },
  {
   "attachments": {},
   "cell_type": "markdown",
   "metadata": {},
   "source": [
    "This example shows you how to use a simple preprocessing pipeline provided by our library to generate a sequence of target items from a response."
   ]
  },
  {
   "cell_type": "code",
   "execution_count": 1,
   "metadata": {},
   "outputs": [
    {
     "name": "stdout",
     "output_type": "stream",
     "text": [
      "hello world\n"
     ]
    }
   ],
   "source": [
    "print('hello world')"
   ]
  },
  {
   "attachments": {},
   "cell_type": "markdown",
   "metadata": {},
   "source": [
    "## Getting Started"
   ]
  },
  {
   "attachments": {},
   "cell_type": "markdown",
   "metadata": {},
   "source": [
    "Peruse our documentation for more information on how to use the library."
   ]
  }
 ],
 "metadata": {
  "kernelspec": {
   "display_name": "python3",
   "language": "python",
   "name": "python3"
  },
  "language_info": {
   "codemirror_mode": {
    "name": "ipython",
    "version": 3
   },
   "file_extension": ".py",
   "mimetype": "text/x-python",
   "name": "python",
   "nbconvert_exporter": "python",
   "pygments_lexer": "ipython3",
   "version": "3.10.9"
  }
 },
 "nbformat": 4,
 "nbformat_minor": 4
}
