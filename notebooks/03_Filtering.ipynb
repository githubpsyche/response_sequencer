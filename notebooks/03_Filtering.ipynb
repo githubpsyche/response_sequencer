{
 "cells": [
  {
   "cell_type": "code",
   "execution_count": null,
   "metadata": {},
   "outputs": [],
   "source": [
    "#| default_exp filtering"
   ]
  },
  {
   "attachments": {},
   "cell_type": "markdown",
   "metadata": {},
   "source": [
    "# MatchFilter\n",
    "The MatchFilter abstract class defines the interface for implementations that rejecting potential matchings of response units with target items based on specified conditions. Example conditions include a minimum similarity score between the response unit and the target item or detection of a specific entailment relation between the response unit and the target item. This class is used to supplement concrete Matcher classes by providing conditions under which matchings can be rejected."
   ]
  },
  {
   "cell_type": "code",
   "execution_count": null,
   "metadata": {},
   "outputs": [],
   "source": [
    "#| export\n",
    "\n",
    "from abc import ABC, abstractmethod\n",
    "from typing import List, Union, Dict\n",
    "import numpy as np\n",
    "\n",
    "class MatchFilter(ABC):\n",
    "\n",
    "    \"\"\"\n",
    "    Abstract base class for match filtering functionality. \n",
    "    To create a custom Filter, inherit from this class and \n",
    "    override the filter method.\n",
    "    \"\"\"\n",
    "\n",
    "    @abstractmethod\n",
    "    def __call__(self, \n",
    "               response_units: Union[List[str], List[Dict[str, object]]], \n",
    "               target_items: Union[List[str], List[Dict[str, object]]],\n",
    "               score_matrix: np.ndarray) -> np.ndarray:\n",
    "        \"\"\"\n",
    "        Updates the score matrix based the filter criteria so filtered pairs have a score of -inf.\n",
    "\n",
    "        Parameters:\n",
    "            response_units (Union[List[str], List[Dict[str, object]]]): List of response units. \n",
    "                Each can be a string (when only text is available) or\n",
    "                a dictionary (when both text and spans are available).\n",
    "            target_items (Union[List[str], List[Dict[str, object]]]): List of target items.\n",
    "                Each can be a string (when only text is available) or\n",
    "                a dictionary (when both text and spans are available).\n",
    "            score_matrix (np.ndarray): A matrix of scores between each response unit and target item.\n",
    "\n",
    "        Returns:\n",
    "            np.ndarray: The updated score matrix.\n",
    "        \"\"\"\n",
    "        pass"
   ]
  },
  {
   "cell_type": "code",
   "execution_count": null,
   "metadata": {},
   "outputs": [],
   "source": [
    "#| export\n",
    "from typing import Optional\n",
    "from response_sequencer.scoring import Scorer\n",
    "\n",
    "class ThresholdMatchFilter(MatchFilter):\n",
    "    \"\"\"\n",
    "    A filter that filters out pairs with scores below a threshold. \n",
    "    \n",
    "    Either uses provided scores to filter or uses a scorer to generate scores. \n",
    "    \"\"\"\n",
    "    def __init__(self, threshold: float, scorer: Optional[Scorer] = None):\n",
    "        self.threshold = threshold\n",
    "        self.scorer = scorer\n",
    "\n",
    "    def __call__(self, \n",
    "               response_units: Union[List[str], List[Dict[str, object]]], \n",
    "               target_items: Union[List[str], List[Dict[str, object]]],\n",
    "               score_matrix: np.ndarray) -> np.ndarray:\n",
    "        \n",
    "        threshold_matrix = self.scorer(response_units, target_items) if self.scorer else score_matrix\n",
    "        score_matrix[threshold_matrix < self.threshold] = -np.inf\n",
    "\n",
    "        return score_matrix"
   ]
  },
  {
   "cell_type": "code",
   "execution_count": null,
   "metadata": {},
   "outputs": [],
   "source": [
    "#|export\n",
    "from typing import Callable\n",
    "\n",
    "class ConditionMatchFilter(MatchFilter):\n",
    "    \"\"\"\n",
    "    A filter that filters out pairs that do not meet a condition function that takes in a response unit and target item.\n",
    "    \"\"\"\n",
    "\n",
    "    def __init_ (self, condition: Callable[[str, str], bool]):\n",
    "        self.condition = condition\n",
    "\n",
    "    def __call__(self,\n",
    "                 response_units: Union[List[str], List[Dict[str, object]]], \n",
    "                 target_items: Union[List[str], List[Dict[str, object]]],\n",
    "                 score_matrix: np.ndarray) -> np.ndarray:\n",
    "           \n",
    "        if isinstance(response_units[0], dict):\n",
    "             response_units = [ru['text'] for ru in response_units]\n",
    "        if isinstance(target_items[0], dict):\n",
    "             target_items = [ti['text'] for ti in target_items]\n",
    "             \n",
    "        for i, ru in enumerate(response_units):\n",
    "            for j, ti in enumerate(target_items):\n",
    "                if not self.condition(ru, ti):\n",
    "                    score_matrix[i, j] = -np.inf\n",
    "                    \n",
    "        return score_matrix"
   ]
  },
  {
   "cell_type": "code",
   "execution_count": null,
   "metadata": {},
   "outputs": [],
   "source": [
    "#| hide\n",
    "import nbdev; nbdev.nbdev_export()"
   ]
  }
 ],
 "metadata": {
  "kernelspec": {
   "display_name": "python3",
   "language": "python",
   "name": "python3"
  }
 },
 "nbformat": 4,
 "nbformat_minor": 2
}
