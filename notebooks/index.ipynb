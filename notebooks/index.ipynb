{
 "cells": [
  {
   "attachments": {},
   "cell_type": "markdown",
   "metadata": {},
   "source": [
    "# response_sequencer\n",
    "> automatic preprocessing for even complex free response data"
   ]
  },
  {
   "attachments": {},
   "cell_type": "markdown",
   "metadata": {},
   "source": [
    "The ResponseSequencer library is a Python library for research on automatic methods for preprocessing complex free response data as the production of a sequence of target items.\n",
    "\n",
    "The project examines various frameworks that break down the task of coding free response data into discrete preprocessing steps.\n",
    "It evaluates multiple automated techniques for performing each step, both independently and in the context of an overall preprocessing pipeline. \n",
    "Specifically, we compare human and computational methods for segmenting text, matching response units with target items, and identifying the sequence of target items generated in a trial.\n",
    "\n",
    "The library provides and helps develop strategies for segmenting textual free response data into response units, matching response units with target items, and identifying the sequence of target items generated in a trial. \n",
    "The library also enables users to create and examine different approaches for assessing the performance of the preprocessing methods for their own datasets."
   ]
  },
  {
   "attachments": {},
   "cell_type": "markdown",
   "metadata": {},
   "source": [
    "## Install"
   ]
  },
  {
   "attachments": {},
   "cell_type": "markdown",
   "metadata": {},
   "source": [
    "For maximum flexibility while tailoring the library to your own needs, we recommend installing the library in editable mode.\n",
    "Clone the repository locally. \n",
    "Navigate to its root directory in a terminal and run the following command:\n",
    "\n",
    "```sh\n",
    "pip install -e .\n",
    "```"
   ]
  },
  {
   "attachments": {},
   "cell_type": "markdown",
   "metadata": {},
   "source": [
    "## How to use"
   ]
  },
  {
   "attachments": {},
   "cell_type": "markdown",
   "metadata": {},
   "source": [
    "Fill me in please! Don't forget code examples:"
   ]
  },
  {
   "cell_type": "code",
   "execution_count": null,
   "metadata": {},
   "outputs": [
    {
     "data": {
      "text/plain": [
       "2"
      ]
     },
     "execution_count": null,
     "metadata": {},
     "output_type": "execute_result"
    }
   ],
   "source": [
    "1+1"
   ]
  },
  {
   "cell_type": "code",
   "execution_count": null,
   "metadata": {},
   "outputs": [],
   "source": []
  }
 ],
 "metadata": {
  "kernelspec": {
   "display_name": "python3",
   "language": "python",
   "name": "python3"
  }
 },
 "nbformat": 4,
 "nbformat_minor": 4
}
